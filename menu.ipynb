{
 "cells": [
  {
   "cell_type": "markdown",
   "id": "c43f5ca7",
   "metadata": {},
   "source": [
    "# Menu"
   ]
  },
  {
   "cell_type": "markdown",
   "id": "eb6eb201",
   "metadata": {},
   "source": [
    "1. At Basta Fazoolin’ with my Heart our motto is simple: when you’re here with family, that’s great! We have four different menus: brunch, early-bird, dinner, and kids.\n",
    "\n",
    "Create a Menu class .\n",
    "\n",
    "2. Give Menu a constructor with the five parameters self, name, items, start_time, and end_time."
   ]
  },
  {
   "cell_type": "code",
   "execution_count": null,
   "id": "4a9c0a9b",
   "metadata": {},
   "outputs": [],
   "source": [
    "class Menu:\n",
    "  #constructor: creates an object with the name, items, etc that are passed as arguments\n",
    "  def __init__(self, name, items, start_time, end_time):\n",
    "    self.name = name\n",
    "    self.items = items\n",
    "    self.start_time = start_time\n",
    "    self.end_time = end_time"
   ]
  },
  {
   "cell_type": "markdown",
   "id": "09c6ae8f",
   "metadata": {},
   "source": [
    "3. Let’s create our first menu: brunch. Brunch is served from 11am to 4pm. The following items are sold during brunch:\n",
    "\n",
    "```\n",
    "{\n",
    "  'pancakes': 7.50, 'waffles': 9.00, 'burger': 11.00, 'home fries': 4.50, 'coffee': 1.50, 'espresso': 3.00, 'tea': 1.00, 'mimosa': 10.50, 'orange juice': 3.50\n",
    "}\n",
    "```"
   ]
  },
  {
   "cell_type": "code",
   "execution_count": null,
   "id": "8315ac87",
   "metadata": {},
   "outputs": [],
   "source": [
    "brunch_items = {\n",
    "  'salumeria plate': 8.00, 'salad and breadsticks (serves 2, no refills)': 14.00, 'pizza with quattro formaggi': 9.00, 'duck ragu': 17.50, 'mushroom ravioli (vegan)': 13.50, 'coffee': 1.50, 'espresso': 3.00,\n",
    "}\n",
    "\n",
    "brunch_menu = Menu(\"Brunch\", brunch_items, 1100, 1600)"
   ]
  },
  {
   "cell_type": "markdown",
   "id": "3a798362",
   "metadata": {},
   "source": [
    "4. Let’s create our second menu item early_bird. Early-bird Dinners are served from 3pm to 6pm. The following items are available during the early-bird menu:\n",
    "\n",
    "```\n",
    "{\n",
    "  'salumeria plate': 8.00, 'salad and breadsticks (serves 2, no refills)': 14.00, 'pizza with quattro formaggi': 9.00, 'duck ragu': 17.50, 'mushroom ravioli (vegan)': 13.50, 'coffee': 1.50, 'espresso': 3.00,\n",
    "}\n",
    "```\n",
    "\n",
    "5. Let’s create our third menu, dinner. Dinner is served from 5pm to 11pm. The following items are available for dinner:\n",
    "\n",
    "```\n",
    "{\n",
    "  'crostini with eggplant caponata': 13.00, 'ceaser salad': 16.00, 'pizza with quattro formaggi': 11.00, 'duck ragu': 19.50, 'mushroom ravioli (vegan)': 13.50, 'coffee': 2.00, 'espresso': 3.00,\n",
    "}\n",
    "```\n",
    "\n",
    "6. \n",
    "And let’s create our last menu, kids. The kids menu is available from 11am until 9pm. The following items are available on the kids menu.\n",
    "\n",
    "```\n",
    "{\n",
    "  'chicken nuggets': 6.50, 'fusilli with wild mushrooms': 12.00, 'apple juice': 3.00\n",
    "}\n",
    "```"
   ]
  },
  {
   "cell_type": "code",
   "execution_count": null,
   "id": "14c2abfa",
   "metadata": {},
   "outputs": [],
   "source": [
    "early_bird_items = {\n",
    "  'pancakes': 7.50, 'waffles': 9.00, 'burger': 11.00, 'home fries': 4.50, 'coffee': 1.50, 'espresso': 3.00, 'tea': 1.00, 'mimosa': 10.50, 'orange juice': 3.50\n",
    "}\n",
    "\n",
    "early_bird_menu = Menu(\"Early Bird\", early_bird_items, 1500, 1800)\n",
    "\n",
    "dinner_items = {\n",
    "  'crostini with eggplant caponata': 13.00, 'ceaser salad': 16.00, 'pizza with quattro formaggi': 11.00, 'duck ragu': 19.50, 'mushroom ravioli (vegan)': 13.50, 'coffee': 2.00, 'espresso': 3.00,\n",
    "}\n",
    "\n",
    "dinner_menu = Menu(\"Dinner\", dinner_items, 1700, 2300)\n",
    "\n",
    "kids_items = {\n",
    "  'chicken nuggets': 6.50, 'fusilli with wild mushrooms': 12.00, 'apple juice': 3.00\n",
    "}\n",
    "\n",
    "kids_menu = Menu(\"Kids Menu\", kids_items, 1100, 2100)"
   ]
  },
  {
   "cell_type": "markdown",
   "id": "1caedfcc",
   "metadata": {},
   "source": [
    "7. Give our Menu class a string representation method that will tell you the name of the menu. Also, indicate in this representation when the menu is available."
   ]
  },
  {
   "cell_type": "code",
   "execution_count": null,
   "id": "67c8c615",
   "metadata": {},
   "outputs": [],
   "source": [
    "class Menu:\n",
    "  #constructor\n",
    "  def __init__(self, name, items, start_time, end_time):\n",
    "    self.name = name\n",
    "    self.items = items\n",
    "    self.start_time = start_time\n",
    "    self.end_time = end_time\n",
    "\n",
    "  #string representation method \n",
    "  def __repr__(self):\n",
    "    return self.name + \" menu available from \" + str(self.start_time) + \" to \" + str(self.end_time)"
   ]
  },
  {
   "cell_type": "markdown",
   "id": "947c3a8f",
   "metadata": {},
   "source": [
    "8. Try out our string representation. If you call print(brunch) it should print out something like the following:\n",
    "\n",
    "```\n",
    "brunch menu available from 11am to 4pm\n",
    "```"
   ]
  },
  {
   "cell_type": "code",
   "execution_count": null,
   "id": "128f57d1",
   "metadata": {},
   "outputs": [],
   "source": [
    "print(brunch_menu)"
   ]
  },
  {
   "cell_type": "markdown",
   "id": "8e324f2f",
   "metadata": {},
   "source": [
    "Brunch"
   ]
  },
  {
   "cell_type": "markdown",
   "id": "aca1b3ad",
   "metadata": {},
   "source": [
    "Without the string representation method we'd get:\n"
   ]
  },
  {
   "cell_type": "code",
   "execution_count": null,
   "id": "5d03454f",
   "metadata": {},
   "outputs": [],
   "source": [
    "print(brunch_menu)"
   ]
  },
  {
   "cell_type": "markdown",
   "id": "c41240ef",
   "metadata": {},
   "source": [
    "<__main__.Menu object at 0x7f90f3ee8f98>"
   ]
  },
  {
   "cell_type": "markdown",
   "id": "5c4fab66",
   "metadata": {},
   "source": [
    "9. Give Menu a method .calculate_bill() that has two parameters: self, and purchased_items, a list of the names of purchased items.\n",
    "\n",
    "Have calculate_bill return the total price of a purchase consisiting of all the items in purchased_items."
   ]
  },
  {
   "cell_type": "code",
   "execution_count": null,
   "id": "e796052d",
   "metadata": {},
   "outputs": [],
   "source": [
    "  def calculate_bill(self, purchased_items):\n",
    "    bill = 0\n",
    "    \n",
    "    # here goes the algorythm\n",
    "\n",
    "    return bill"
   ]
  },
  {
   "cell_type": "markdown",
   "id": "70d3faee",
   "metadata": {},
   "source": [
    "Working on the algorith"
   ]
  },
  {
   "cell_type": "code",
   "execution_count": null,
   "id": "12f314b1",
   "metadata": {},
   "outputs": [],
   "source": [
    " def calculate_bill(self, purchased_items):\n",
    "    bill = 0\n",
    "    # here goes the algorythm\n",
    "    for purchased_item in purchased_items:\n",
    "      if purchased_item in self.items:\n",
    "        # it's a dictionary with the item as key and price as value\n",
    "        bill += self.items[purchased_item]\n",
    "    return bill"
   ]
  },
  {
   "cell_type": "markdown",
   "id": "585f7c22",
   "metadata": {},
   "source": [
    "10. Test out Menu.calculate_bill(). We have a breakfast order for one order of pancakes, one order of home fries, and one coffee. Pass that into brunch.calculate_bill() and print out the price."
   ]
  },
  {
   "cell_type": "code",
   "execution_count": null,
   "id": "b07774ba",
   "metadata": {},
   "outputs": [],
   "source": [
    "print(brunch_menu.calculate_bill([\"pancakes\", \"home fries\", \"coffee\"]))"
   ]
  },
  {
   "cell_type": "markdown",
   "id": "0e49c717",
   "metadata": {},
   "source": [
    "11. What about an early-bird purchase? Our last guests ordered the salumeria plate and the vegan mushroom ravioli. Calculate the bill with .calculate_bill()."
   ]
  },
  {
   "cell_type": "code",
   "execution_count": null,
   "id": "d1badb6e",
   "metadata": {},
   "outputs": [],
   "source": [
    "print(early_bird_menu.calculate_bill([\"salumeria plate\", \"mushroom ravioli (vegan)\"]))\n"
   ]
  },
  {
   "cell_type": "markdown",
   "id": "1033eed2",
   "metadata": {},
   "source": [
    "\n",
    "12. Basta Fazoolin’ with my Heart has seen tremendous success with the family market, which is fantastic because when you’re at Basta Fazoolin’ with my Heart with family, that’s great!\n",
    "\n",
    "We’ve decided to create more than one restaurant to offer our fantastic menus, services, and ambience around the country.\n",
    "\n",
    "First, let’s create a Franchise class.\n",
    "\n",
    "13. Give the Franchise class a constructor. Take in an address, and assign it to self.address. Also take in a list of menus and assign it to self.menus."
   ]
  },
  {
   "cell_type": "code",
   "execution_count": null,
   "id": "a9f40be8",
   "metadata": {},
   "outputs": [],
   "source": [
    "class Franchise:\n",
    "  #constructor\n",
    "  def __init__(self, address, menus):\n",
    "    self.address = address\n",
    "    self.menus = menus"
   ]
  },
  {
   "cell_type": "markdown",
   "id": "c1deb22a",
   "metadata": {},
   "source": [
    "14. Let’s create our first two franchises! Our flagship store is located at \"1232 West End Road\" and our new installment is located at \"12 East Mulberry Street\". Pass in all four menus along with these addresses to define flagship_store and new_installment."
   ]
  },
  {
   "cell_type": "code",
   "execution_count": null,
   "id": "90a3c9f5",
   "metadata": {},
   "outputs": [],
   "source": [
    "# we create an array of menus to organize things a bit\n",
    "menus = [brunch_menu, early_bird_menu, dinner_menu, kids_menu]\n",
    "\n",
    "flagship_store = Franchise(\"1232 West End Road\", menus)\n",
    "new_installment = Franchise(\"12 East Mulberry Street\",menus)"
   ]
  },
  {
   "cell_type": "markdown",
   "id": "fdcaf193",
   "metadata": {},
   "source": [
    "15. Give our Franchises a string representation so that we’ll be able to tell them apart. If we print out a Franchise it should tell us the address of the restaurant."
   ]
  },
  {
   "cell_type": "code",
   "execution_count": null,
   "id": "e18f523f",
   "metadata": {},
   "outputs": [],
   "source": [
    "class Franchise:\n",
    "  #constructor\n",
    "  def __init__(self, address, menus):\n",
    "    self.address = address\n",
    "    self.menus = menus\n",
    "    \n",
    "    #string representation method \n",
    "  def __repr__(self):\n",
    "    return self.address"
   ]
  },
  {
   "cell_type": "markdown",
   "id": "62cb7ef6",
   "metadata": {},
   "source": [
    "16. Let’s tell our customers what they can order! Give Franchise an .available_menus() method that takes in a time parameter and returns a list of the Menu objects that are available at that time."
   ]
  },
  {
   "cell_type": "code",
   "execution_count": null,
   "id": "be9653cd",
   "metadata": {},
   "outputs": [],
   "source": [
    "    # let's think about what we want to return -> a list of menus\n",
    "    \n",
    "    def available_menus(self, time):\n",
    "    available_menus = []\n",
    "\n",
    "    # algorithm\n",
    "\n",
    "    return available_menus"
   ]
  },
  {
   "cell_type": "markdown",
   "id": "fff3ad66",
   "metadata": {},
   "source": [
    "Working on the algorithm"
   ]
  },
  {
   "cell_type": "code",
   "execution_count": null,
   "id": "71b6375c",
   "metadata": {},
   "outputs": [],
   "source": [
    "  def available_menus(self, time):\n",
    "    available_menus = []\n",
    "    # we check each menu and compare the times with time\n",
    "    for menu in self.menus:\n",
    "      # we compare the time with the start and end times from the menu class\n",
    "      if time >= menu.start_time and time <= menu.end_time:\n",
    "        available_menus.append(menu)\n",
    "    return available_menus"
   ]
  },
  {
   "cell_type": "markdown",
   "id": "57c27b2e",
   "metadata": {},
   "source": [
    "\n",
    "17. Let’s test out our .available_menus() method! Call it with 12 noon as an argument and print out the results.\n",
    "18. Let’s do another test! See what is printed if we call .available_menus() with 5pm as an argument and print out the results"
   ]
  },
  {
   "cell_type": "code",
   "execution_count": null,
   "id": "961973c3",
   "metadata": {},
   "outputs": [],
   "source": [
    "print(flagship_store.available_menus(1200))\n",
    "## [Brunch, Kids Menu]\n",
    "print(flagship_store.available_menus(1700))\n",
    "## [Early Bird, Dinner, Kids Menu]"
   ]
  },
  {
   "cell_type": "markdown",
   "id": "4f96c25c",
   "metadata": {},
   "source": [
    "19. Since we’ve been so successful building out a branded chain of restaurants, we’ve decided to diversify. We’re going to create a restaurant that sells arepas!\n",
    "\n",
    "First let’s define a Business class.\n",
    "\n",
    "20. Give Business a constructor. A Business needs a name and a list of franchises."
   ]
  },
  {
   "cell_type": "code",
   "execution_count": null,
   "id": "ba5b5db5",
   "metadata": {},
   "outputs": [],
   "source": [
    "class Business:\n",
    "  #constructor\n",
    "  def __init__(self, name, franchises):\n",
    "    self.name = name\n",
    "    self.franchises = franchises"
   ]
  },
  {
   "cell_type": "markdown",
   "id": "89709d2a",
   "metadata": {},
   "source": [
    "\n",
    "21. Let’s create our first Business. The name is \"Basta Fazoolin' with my Heart\" and the two franchises are flagship_store and new_installment."
   ]
  },
  {
   "cell_type": "code",
   "execution_count": null,
   "id": "77dd4bff",
   "metadata": {},
   "outputs": [],
   "source": [
    "franchises = [flagship_store, new_installment]\n",
    "business = (\"Basta Fazoolin' with my Heart\", franchises)"
   ]
  },
  {
   "cell_type": "markdown",
   "id": "62ef8fb4",
   "metadata": {},
   "source": [
    "22. Before we create our new business, we’ll need a Franchise and before our Franchise we’ll need a menu. The items for our Take a’ Arepa available from 10am until 8pm are the following:\n",
    "\n",
    "```\n",
    "{\n",
    "  'arepa pabellon': 7.00, 'pernil arepa': 8.50, 'guayanes arepa': 8.00, 'jamon arepa': 7.50\n",
    "}\n",
    "```\n",
    "\n",
    "Save this to a variable called arepas_menu."
   ]
  },
  {
   "cell_type": "code",
   "execution_count": null,
   "id": "40124bf1",
   "metadata": {},
   "outputs": [],
   "source": [
    "arepas_items = {\n",
    "  'arepa pabellon': 7.00, 'pernil arepa': 8.50, 'guayanes arepa': 8.00, 'jamon arepa': 7.50\n",
    "}\n",
    "\n",
    "# we create the menu\n",
    "arepas_menu = Menu(\"Take a' Arepa\", arepas_items, 1000, 2000)"
   ]
  },
  {
   "cell_type": "markdown",
   "id": "7e1b212c",
   "metadata": {},
   "source": [
    "23. Next let’s create our first Take a’ Arepa franchise! Our new restaurant is located at \"189 Fitzgerald Avenue\". Save the Franchise object to a variable called arepas_place."
   ]
  },
  {
   "cell_type": "code",
   "execution_count": null,
   "id": "a8086748",
   "metadata": {},
   "outputs": [],
   "source": [
    "# we create the menu\n",
    "arepas_menu = Menu(\"Take a' Arepa\", arepas_items, 1000, 2000)\n",
    "\n",
    "# we create the franchise and pass a list of menus\n",
    "arepas_place = Franchise(\"189 Fitzgerald Avenue\", [arepas_menu])"
   ]
  },
  {
   "cell_type": "markdown",
   "id": "d9182739",
   "metadata": {},
   "source": [
    "24. Now let’s make our new Business! The business is called \"Take a' Arepa\"!\n",
    "\n",
    "25. Congrats! You created a system of classes that help structure your code and perform all business requirements you need. Whenever we need a new feature we’ll have the well-organized code required to make developing and shipping it easy.\n",
    "\n",
    "https://www.youtube.com/watch?v=Dk-ePlxdmBU&feature=emb_imp_woyt"
   ]
  },
  {
   "cell_type": "markdown",
   "id": "79eec21a",
   "metadata": {},
   "source": [
    "## Complete code"
   ]
  },
  {
   "cell_type": "code",
   "execution_count": 4,
   "id": "c15c78f8",
   "metadata": {},
   "outputs": [
    {
     "name": "stdout",
     "output_type": "stream",
     "text": [
      "Brunch\n",
      "13.5\n",
      "21.5\n",
      "1232 West End Road\n",
      "[Brunch, Kids Menu]\n",
      "[Early Bird, Dinner, Kids Menu]\n",
      "189 Fitzgerald Avenue\n",
      "Take a' Arepa\n"
     ]
    }
   ],
   "source": [
    "class Menu:\n",
    "  #constructor\n",
    "  def __init__(self, name, items, start_time, end_time):\n",
    "    self.name = name\n",
    "    self.items = items\n",
    "    self.start_time = start_time\n",
    "    self.end_time = end_time\n",
    "\n",
    "  #string representation method \n",
    "  def __repr__(self):\n",
    "    return self.name\n",
    "    return self.name + \" menu available from \" + str(self.start_time) + \" to \" + str(self.end_time)\n",
    "\n",
    "  def calculate_bill(self, purchased_items):\n",
    "    bill = 0\n",
    "    # here goes the algorythm\n",
    "    for purchased_item in purchased_items:\n",
    "      if purchased_item in self.items:\n",
    "        bill += self.items[purchased_item]\n",
    "    return bill\n",
    "\n",
    "class Franchise:\n",
    "  #constructor\n",
    "  def __init__(self, address, menus):\n",
    "    self.address = address\n",
    "    self.menus = menus\n",
    "\n",
    "  #string representation method \n",
    "  def __repr__(self):\n",
    "    return self.address\n",
    "\n",
    "  def available_menus(self, time):\n",
    "    available_menus = []\n",
    "    # algorithm\n",
    "    for menu in self.menus:\n",
    "      if time >= menu.start_time and time <= menu.end_time:\n",
    "        available_menus.append(menu)\n",
    "    return available_menus\n",
    "\n",
    "class Business:\n",
    "  #constructor\n",
    "  def __init__(self, name, franchises):\n",
    "    self.name = name\n",
    "    self.franchises = franchises\n",
    "\n",
    "\n",
    "# Brunch Menu\n",
    "brunch_items = {\n",
    "  'pancakes': 7.50, 'waffles': 9.00, 'burger': 11.00, 'home fries': 4.50, 'coffee': 1.50, 'espresso': 3.00, 'tea': 1.00, 'mimosa': 10.50, 'orange juice': 3.50\n",
    "}\n",
    "\n",
    "brunch_menu = Menu(\"Brunch\", brunch_items, 1100, 1600)\n",
    "\n",
    "print(brunch_menu)\n",
    "\n",
    "print(brunch_menu.calculate_bill([\"pancakes\", \"home fries\", \"coffee\"]))\n",
    "\n",
    "# Early Bird Menu\n",
    "early_bird_items = {\n",
    "  'salumeria plate': 8.00, 'salad and breadsticks (serves 2, no refills)': 14.00, 'pizza with quattro formaggi': 9.00, 'duck ragu': 17.50, 'mushroom ravioli (vegan)': 13.50, 'coffee': 1.50, 'espresso': 3.00,\n",
    "}\n",
    "\n",
    "early_bird_menu = Menu(\"Early Bird\", early_bird_items, 1500, 1800)\n",
    "\n",
    "print(early_bird_menu.calculate_bill([\"salumeria plate\", \"mushroom ravioli (vegan)\"]))\n",
    "\n",
    "#Dinner Menu\n",
    "dinner_items = {\n",
    "  'crostini with eggplant caponata': 13.00, 'ceaser salad': 16.00, 'pizza with quattro formaggi': 11.00, 'duck ragu': 19.50, 'mushroom ravioli (vegan)': 13.50, 'coffee': 2.00, 'espresso': 3.00,\n",
    "}\n",
    "\n",
    "dinner_menu = Menu(\"Dinner\", dinner_items, 1700, 2300)\n",
    "\n",
    "#Kids Menu\n",
    "kids_items = {\n",
    "  'chicken nuggets': 6.50, 'fusilli with wild mushrooms': 12.00, 'apple juice': 3.00\n",
    "}\n",
    "\n",
    "kids_menu = Menu(\"Kids Menu\", kids_items, 1100, 2100)\n",
    "\n",
    "# we create an array of menus to organize things a bit\n",
    "menus = [brunch_menu, early_bird_menu, dinner_menu, kids_menu]\n",
    "\n",
    "flagship_store = Franchise(\"1232 West End Road\", menus)\n",
    "new_installment = Franchise(\"12 East Mulberry Street\",menus)\n",
    "\n",
    "print(flagship_store)\n",
    "print(flagship_store.available_menus(1200))\n",
    "print(flagship_store.available_menus(1700))\n",
    "\n",
    "franchises = [flagship_store, new_installment]\n",
    "business = (\"Basta Fazoolin' with my Heart\", franchises)\n",
    "\n",
    "arepas_items = {\n",
    "  'arepa pabellon': 7.00, 'pernil arepa': 8.50, 'guayanes arepa': 8.00, 'jamon arepa': 7.50\n",
    "}\n",
    "\n",
    "# we create the menu\n",
    "arepas_menu = Menu(\"Take a' Arepa\", arepas_items, 1000, 2000)\n",
    "\n",
    "# we create the franchise and pass a list of menus\n",
    "arepas_place = Franchise(\"189 Fitzgerald Avenue\", [arepas_menu])\n",
    "\n",
    "# business: we need to pass a list of franchises\n",
    "arepas = Business(\"Take a' Arepa\", [arepas_place])\n",
    "\n",
    "# testing the code\n",
    "print(arepas.franchises[0])\n",
    "print(arepas.franchises[0].menus[0])"
   ]
  },
  {
   "cell_type": "code",
   "execution_count": null,
   "id": "13a850bc",
   "metadata": {},
   "outputs": [],
   "source": []
  }
 ],
 "metadata": {
  "kernelspec": {
   "display_name": "Python 3",
   "language": "python",
   "name": "python3"
  },
  "language_info": {
   "codemirror_mode": {
    "name": "ipython",
    "version": 3
   },
   "file_extension": ".py",
   "mimetype": "text/x-python",
   "name": "python",
   "nbconvert_exporter": "python",
   "pygments_lexer": "ipython3",
   "version": "3.9.4"
  }
 },
 "nbformat": 4,
 "nbformat_minor": 5
}
